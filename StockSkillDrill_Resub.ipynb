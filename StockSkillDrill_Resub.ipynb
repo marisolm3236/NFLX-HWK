{
  "nbformat": 4,
  "nbformat_minor": 0,
  "metadata": {
    "colab": {
      "name": "StockSkillDrill_Resub.ipynb",
      "provenance": []
    },
    "kernelspec": {
      "name": "python3",
      "display_name": "Python 3"
    },
    "language_info": {
      "name": "python"
    }
  },
  "cells": [
    {
      "cell_type": "code",
      "metadata": {
        "id": "Mwjem414rY27"
      },
      "source": [
        "# Import the 'os' and 'csv' libraries\n",
        "import os\n",
        "import csv\n",
        "import pandas as pd"
      ],
      "execution_count": 2,
      "outputs": []
    },
    {
      "cell_type": "code",
      "metadata": {
        "id": "0vAh9x53rbv-"
      },
      "source": [
        "# Set path for importing our CSV file\n",
        "yahoo = os.path.join('yahoo_stock.csv') "
      ],
      "execution_count": 3,
      "outputs": []
    },
    {
      "cell_type": "code",
      "metadata": {
        "colab": {
          "base_uri": "https://localhost:8080/"
        },
        "id": "alwbMYctrxJv",
        "outputId": "85ccc98f-0638-4e28-fb26-a132d646a9a1"
      },
      "source": [
        "def calculatePercentChange(openNum, closeNum):\n",
        "    percent_change = ((closeNum - openNum)/openNum)*100\n",
        "    percent_change = abs(percent_change)\n",
        "    return percent_change\n",
        "    \n",
        "# Open a connection to the comma-delimited csv file\n",
        "with open(yahoo,'r') as csvfile:\n",
        "\n",
        "    # Read in the CSV file using csv.DictReader() class\n",
        "    reader = csv.DictReader(csvfile)\n",
        "    \n",
        "    # Create a variable to save our print row and greatest daily percent change\n",
        "    max_pct = 0\n",
        "    print_row = {}\n",
        "\n",
        "    # Iterate through each row\n",
        "    for row in reader:\n",
        "        # For each row, calculate the daily percent change\n",
        "        row_percent_change = calculatePercentChange(float(row[\"Open\"]), float(row[\"Close\"]))\n",
        "        \n",
        "        # Check if the absolute daily percent change is greater than the previous max\n",
        "        if row_percent_change > max_pct:\n",
        "            # If true, store new greatest daily percent change and print row\n",
        "            max_pct = row_percent_change\n",
        "            print_row = row\n",
        "                        \n",
        "    # Print out the date, stock high, stock low, volume and percent change for the day with the greatest percent change\n",
        "    print(\"Date:\", print_row[\"Date\"],\n",
        "          \"\\nStock high:\", print_row[\"High\"], \"\\nStock Low:\", print_row[\"Low\"], \"\\nVolume:\", print_row[\"Volume\"], \n",
        "         \"\\nPercent change:\", max_pct, \"\")"
      ],
      "execution_count": 7,
      "outputs": [
        {
          "output_type": "stream",
          "name": "stdout",
          "text": [
            "Date: 3/12/2020 \n",
            "Stock high: 2660.949951 \n",
            "Stock Low: 2478.860107 \n",
            "Volume: 8829380000 \n",
            "Percent change: 5.709927852123531 \n"
          ]
        }
      ]
    }
  ]
}