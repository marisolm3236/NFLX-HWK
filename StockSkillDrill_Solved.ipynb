{
 "cells": [
  {
   "cell_type": "code",
   "execution_count": 71,
   "metadata": {},
   "outputs": [],
   "source": [
    "# Import the 'os' and 'csv' libraries\n",
    "import os\n",
    "import csv\n",
    "import pandas as pd"
   ]
  },
  {
   "cell_type": "code",
   "execution_count": 72,
   "metadata": {},
   "outputs": [],
   "source": [
    "# Set path for importing our CSV file\n",
    "yahoo = os.path.join('../','Resources', 'yahoo_stock.csv') "
   ]
  },
  {
   "cell_type": "code",
   "execution_count": 74,
   "metadata": {},
   "outputs": [
    {
     "name": "stdout",
     "output_type": "stream",
     "text": [
      "5.709927852123531\n",
      "{'Date': '3/12/2020', 'High': '2660.949951', 'Low': '2478.860107', 'Open': '2630.860107', 'Close': '2480.639893', 'Volume': '8829380000', 'Adj Close': '2480.639893'}\n"
     ]
    }
   ],
   "source": [
    "# Open a connection to the comma-delimited csv file \n",
    "with open(yahoo) as csvfile:\n",
    "\n",
    "    # Read in the CSV file using csv.DictReader() class\n",
    "    reader = csv.DictReader(open(yahoo))\n",
    "\n",
    "    # Create a variable to save our print row and greatest daily percent change\n",
    "    printrow = 0\n",
    "    max_pct = 0\n",
    "    \n",
    "    # Iterate through each row\n",
    "    # For each row, calculate the daily percent change\n",
    "    # Check if the absolute daily percent change is greater than the previous max\n",
    "    # If true, store new greatest daily percent change and print row\n",
    "    # Print out the date, stock high, stock low, volume and percent change for the day with the greatest percent change\n",
    "    \n",
    "    dpc = 0\n",
    "    for row in reader:\n",
    "        dpc = abs(( (float(row['Close']) - float(row['Open']) ) / float(row['Open'])) * 100)\n",
    "        if dpc > max_pct:\n",
    "            max_pct = dpc\n",
    "            printrow = row\n",
    "    \n",
    "    print(max_pct)\n",
    "    print(printrow)"
   ]
  }
 ],
 "metadata": {
  "kernelspec": {
   "display_name": "Python 3",
   "language": "python",
   "name": "python3"
  },
  "language_info": {
   "codemirror_mode": {
    "name": "ipython",
    "version": 3
   },
   "file_extension": ".py",
   "mimetype": "text/x-python",
   "name": "python",
   "nbconvert_exporter": "python",
   "pygments_lexer": "ipython3",
   "version": "3.8.5"
  }
 },
 "nbformat": 4,
 "nbformat_minor": 4
}
