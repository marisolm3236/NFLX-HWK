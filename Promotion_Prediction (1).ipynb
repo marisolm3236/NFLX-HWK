{
  "cells": [
    {
      "cell_type": "code",
      "execution_count": 1,
      "metadata": {
        "id": "xxTvdpJXjbCy"
      },
      "outputs": [],
      "source": [
        "# Import Dependencies\n",
        "import numpy as np\n",
        "import pandas as pd\n",
        "import plotly.express as px\n",
        "import matplotlib.pyplot as plt\n",
        "from sklearn.metrics import confusion_matrix, classification_report\n",
        "from sklearn.model_selection import train_test_split\n",
        "from sklearn.preprocessing import StandardScaler\n",
        "from sklearn.model_selection import train_test_split\n",
        "from sklearn.metrics import accuracy_score\n",
        "from sklearn.ensemble import RandomForestClassifier\n",
        "from sklearn.neighbors import KNeighborsClassifier\n",
        "from sklearn.feature_selection import SelectFromModel"
      ]
    },
    {
      "cell_type": "markdown",
      "metadata": {
        "id": "QXUQWDm3jbC2"
      },
      "source": [
        "## Promotion Dataset\n",
        "\n",
        "Multiple attributes have been provided around Employee's past and current performance along with demographics.\n",
        "\n",
        "Features:\n",
        "\n",
        "- employee_id: Unique ID for employee\n",
        "- department: Department of employee\n",
        "- region: Region of employment (unordered)\n",
        "- education: Education Level\n",
        "- gender: Gender of Employee\n",
        "- recruitment_channel: Channel of recruitment for employee\n",
        "- no_ of_ trainings: no of other trainings completed in previous year on soft skills, technical skills etc.\n",
        "- age: Age of Employee\n",
        "- previous_ year_ rating: Employee Rating for the previous year\n",
        "- length_ of_ service: Length of service in years\n",
        "- awards_ won?: if awards won during previous year then 1 else 0\n",
        "- avg_ training_ score: Average score in current training evaluations\n",
        "- is_promoted: (Target) Recommended for promotion"
      ]
    },
    {
      "cell_type": "code",
      "execution_count": 2,
      "metadata": {
        "colab": {
          "base_uri": "https://localhost:8080/",
          "height": 278
        },
        "id": "OPbAprP9jbC4",
        "outputId": "ca178122-7b0a-40f6-c680-bb9ccb458de0"
      },
      "outputs": [
        {
          "output_type": "execute_result",
          "data": {
            "text/html": [
              "<div>\n",
              "<style scoped>\n",
              "    .dataframe tbody tr th:only-of-type {\n",
              "        vertical-align: middle;\n",
              "    }\n",
              "\n",
              "    .dataframe tbody tr th {\n",
              "        vertical-align: top;\n",
              "    }\n",
              "\n",
              "    .dataframe thead th {\n",
              "        text-align: right;\n",
              "    }\n",
              "</style>\n",
              "<table border=\"1\" class=\"dataframe\">\n",
              "  <thead>\n",
              "    <tr style=\"text-align: right;\">\n",
              "      <th></th>\n",
              "      <th>department</th>\n",
              "      <th>region</th>\n",
              "      <th>education</th>\n",
              "      <th>gender</th>\n",
              "      <th>recruitment_channel</th>\n",
              "      <th>no_of_trainings</th>\n",
              "      <th>age</th>\n",
              "      <th>previous_year_rating</th>\n",
              "      <th>length_of_service</th>\n",
              "      <th>awards_won?</th>\n",
              "      <th>avg_training_score</th>\n",
              "      <th>is_promoted</th>\n",
              "    </tr>\n",
              "  </thead>\n",
              "  <tbody>\n",
              "    <tr>\n",
              "      <th>0</th>\n",
              "      <td>Sales &amp; Marketing</td>\n",
              "      <td>region_7</td>\n",
              "      <td>Master's &amp; above</td>\n",
              "      <td>f</td>\n",
              "      <td>sourcing</td>\n",
              "      <td>1</td>\n",
              "      <td>35</td>\n",
              "      <td>5.0</td>\n",
              "      <td>8</td>\n",
              "      <td>0</td>\n",
              "      <td>49</td>\n",
              "      <td>0</td>\n",
              "    </tr>\n",
              "    <tr>\n",
              "      <th>1</th>\n",
              "      <td>Operations</td>\n",
              "      <td>region_22</td>\n",
              "      <td>Bachelor's</td>\n",
              "      <td>m</td>\n",
              "      <td>other</td>\n",
              "      <td>1</td>\n",
              "      <td>30</td>\n",
              "      <td>5.0</td>\n",
              "      <td>4</td>\n",
              "      <td>0</td>\n",
              "      <td>60</td>\n",
              "      <td>0</td>\n",
              "    </tr>\n",
              "    <tr>\n",
              "      <th>2</th>\n",
              "      <td>Sales &amp; Marketing</td>\n",
              "      <td>region_19</td>\n",
              "      <td>Bachelor's</td>\n",
              "      <td>m</td>\n",
              "      <td>sourcing</td>\n",
              "      <td>1</td>\n",
              "      <td>34</td>\n",
              "      <td>3.0</td>\n",
              "      <td>7</td>\n",
              "      <td>0</td>\n",
              "      <td>50</td>\n",
              "      <td>0</td>\n",
              "    </tr>\n",
              "    <tr>\n",
              "      <th>3</th>\n",
              "      <td>Sales &amp; Marketing</td>\n",
              "      <td>region_23</td>\n",
              "      <td>Bachelor's</td>\n",
              "      <td>m</td>\n",
              "      <td>other</td>\n",
              "      <td>2</td>\n",
              "      <td>39</td>\n",
              "      <td>1.0</td>\n",
              "      <td>10</td>\n",
              "      <td>0</td>\n",
              "      <td>50</td>\n",
              "      <td>0</td>\n",
              "    </tr>\n",
              "    <tr>\n",
              "      <th>4</th>\n",
              "      <td>Technology</td>\n",
              "      <td>region_26</td>\n",
              "      <td>Bachelor's</td>\n",
              "      <td>m</td>\n",
              "      <td>other</td>\n",
              "      <td>1</td>\n",
              "      <td>45</td>\n",
              "      <td>3.0</td>\n",
              "      <td>2</td>\n",
              "      <td>0</td>\n",
              "      <td>73</td>\n",
              "      <td>0</td>\n",
              "    </tr>\n",
              "  </tbody>\n",
              "</table>\n",
              "</div>"
            ],
            "text/plain": [
              "          department     region  ... avg_training_score is_promoted\n",
              "0  Sales & Marketing   region_7  ...                 49           0\n",
              "1         Operations  region_22  ...                 60           0\n",
              "2  Sales & Marketing  region_19  ...                 50           0\n",
              "3  Sales & Marketing  region_23  ...                 50           0\n",
              "4         Technology  region_26  ...                 73           0\n",
              "\n",
              "[5 rows x 12 columns]"
            ]
          },
          "metadata": {},
          "execution_count": 2
        }
      ],
      "source": [
        "# Read the csv file into a pandas DataFrame called `promotions_df`\n",
        "\n",
        "promotions_df = pd.read_csv(\"promotions.csv\")\n",
        "promotions_df.head()"
      ]
    },
    {
      "cell_type": "code",
      "execution_count": 3,
      "metadata": {
        "id": "1qXY5HLzjbC5"
      },
      "outputs": [],
      "source": [
        "# Create `X` and `y` datasets\n",
        "\n",
        "X = promotions_df.drop('is_promoted', axis=1)\n",
        "y = promotions_df['is_promoted']"
      ]
    },
    {
      "cell_type": "code",
      "execution_count": 4,
      "metadata": {
        "id": "IIrncCTbjbC6"
      },
      "outputs": [],
      "source": [
        "# Dummy encode the `X` data into numerical features\n",
        "\n",
        "X = pd.get_dummies(X,prefix=\"Label\")"
      ]
    },
    {
      "cell_type": "code",
      "execution_count": 5,
      "metadata": {
        "id": "H3QAJqxWjbC6"
      },
      "outputs": [],
      "source": [
        "# Divide the data into training and testing sets\n",
        "\n",
        "X_train, X_test, y_train, y_test = train_test_split(X, y, random_state=1)"
      ]
    },
    {
      "cell_type": "code",
      "execution_count": 6,
      "metadata": {
        "id": "IV2AT0tNjbC7"
      },
      "outputs": [],
      "source": [
        "# Create a StandardScaler() model and fit it to the training data\n",
        "\n",
        "scaler = StandardScaler().fit(X_train)"
      ]
    },
    {
      "cell_type": "code",
      "execution_count": 7,
      "metadata": {
        "id": "Vn9g44F_jbC7"
      },
      "outputs": [],
      "source": [
        "# Transform the training and testing data by using the scaler model\n",
        "\n",
        "X_train_scaled = scaler.transform(X_train)\n",
        "X_test_scaled = scaler.transform(X_test)"
      ]
    },
    {
      "cell_type": "markdown",
      "metadata": {
        "id": "s3t8fmJOjbC8"
      },
      "source": [
        "## Use Random Forest to predict promotions"
      ]
    },
    {
      "cell_type": "code",
      "execution_count": 8,
      "metadata": {
        "colab": {
          "base_uri": "https://localhost:8080/"
        },
        "id": "bpTEvr5bjbC9",
        "outputId": "7080e660-4a1f-46b2-ff4d-db028bc9f794"
      },
      "outputs": [
        {
          "output_type": "stream",
          "name": "stdout",
          "text": [
            "              precision    recall  f1-score   support\n",
            "\n",
            "           0       0.93      1.00      0.96     11094\n",
            "           1       0.85      0.28      0.42      1071\n",
            "\n",
            "    accuracy                           0.93     12165\n",
            "   macro avg       0.89      0.64      0.69     12165\n",
            "weighted avg       0.93      0.93      0.92     12165\n",
            "\n",
            "Training Score: 0.9996985888477874\n",
            "Testing Score: 0.9321002877106453\n"
          ]
        }
      ],
      "source": [
        "# Fit a Random Forest Classifier model with 500 trees and print training and testing scores\n",
        "\n",
        "clf = RandomForestClassifier(random_state=1, n_estimators=500).fit(X_train_scaled, y_train)\n",
        "y_pred = clf.predict(X_test_scaled)\n",
        "\n",
        "print(classification_report(y_test, y_pred))\n",
        "print(f'Training Score: {clf.score(X_train_scaled, y_train)}')\n",
        "print(f'Testing Score: {clf.score(X_test_scaled, y_test)}')"
      ]
    },
    {
      "cell_type": "code",
      "execution_count": 9,
      "metadata": {
        "colab": {
          "base_uri": "https://localhost:8080/"
        },
        "id": "TE1z-hWKjbC-",
        "outputId": "dd6fa963-1f44-4852-f2c4-7d237f019d9d"
      },
      "outputs": [
        {
          "output_type": "stream",
          "name": "stdout",
          "text": [
            "[2.62627551e-02 1.52537816e-01 6.29238568e-02 1.28975765e-01\n",
            " 2.94289582e-02 3.08924233e-01 1.05864933e-02 7.16626516e-03\n",
            " 4.17658676e-03 2.26907555e-03 1.85049247e-02 1.06634969e-02\n",
            " 4.87173783e-03 1.98762220e-02 9.87247823e-03 2.72189663e-03\n",
            " 2.78909618e-03 3.66262190e-03 1.33011732e-03 6.68500896e-03\n",
            " 3.15048310e-03 6.66926724e-03 4.24269068e-03 3.79593147e-03\n",
            " 7.38030896e-06 2.63387442e-03 1.23159979e-02 2.69059317e-03\n",
            " 1.85715281e-03 8.12222084e-03 4.82946883e-03 1.54835772e-03\n",
            " 3.44068592e-03 5.19544918e-03 5.40218679e-03 4.33161645e-03\n",
            " 2.31545857e-03 1.82723019e-03 2.58921601e-03 3.87136674e-03\n",
            " 1.89864149e-03 1.05065721e-03 7.41094364e-04 5.46469565e-03\n",
            " 1.78793757e-03 1.87715138e-03 9.32610513e-03 2.90447001e-03\n",
            " 7.11725734e-04 7.18288372e-03 1.01376177e-03 6.97849446e-03\n",
            " 1.30875494e-02 1.30208574e-02 1.66871401e-02 4.31404387e-03\n",
            " 1.68867567e-02]\n"
          ]
        }
      ],
      "source": [
        "# Calculate feature importance from the fitted random forest model\n",
        "\n",
        "features = clf.feature_importances_\n",
        "print(features)"
      ]
    },
    {
      "cell_type": "code",
      "execution_count": 10,
      "metadata": {
        "colab": {
          "base_uri": "https://localhost:8080/",
          "height": 542
        },
        "id": "Kk2NNpYojbC-",
        "outputId": "336b1a54-09ea-4a3e-aefe-9600917638ce"
      },
      "outputs": [
        {
          "output_type": "display_data",
          "data": {
            "text/html": [
              "<html>\n",
              "<head><meta charset=\"utf-8\" /></head>\n",
              "<body>\n",
              "    <div>\n",
              "            <script src=\"https://cdnjs.cloudflare.com/ajax/libs/mathjax/2.7.5/MathJax.js?config=TeX-AMS-MML_SVG\"></script><script type=\"text/javascript\">if (window.MathJax) {MathJax.Hub.Config({SVG: {font: \"STIX-Web\"}});}</script>\n",
              "                <script type=\"text/javascript\">window.PlotlyConfig = {MathJaxConfig: 'local'};</script>\n",
              "        <script src=\"https://cdn.plot.ly/plotly-latest.min.js\"></script>    \n",
              "            <div id=\"8f061e5e-27d0-4eee-9024-85202a74ee82\" class=\"plotly-graph-div\" style=\"height:525px; width:100%;\"></div>\n",
              "            <script type=\"text/javascript\">\n",
              "                \n",
              "                    window.PLOTLYENV=window.PLOTLYENV || {};\n",
              "                    \n",
              "                if (document.getElementById(\"8f061e5e-27d0-4eee-9024-85202a74ee82\")) {\n",
              "                    Plotly.newPlot(\n",
              "                        '8f061e5e-27d0-4eee-9024-85202a74ee82',\n",
              "                        [{\"alignmentgroup\": \"True\", \"hoverlabel\": {\"namelength\": 0}, \"hovertemplate\": \"Features=%{x}<br>Score Features=%{y}\", \"legendgroup\": \"\", \"marker\": {\"color\": \"#636efa\"}, \"name\": \"\", \"offsetgroup\": \"\", \"orientation\": \"v\", \"showlegend\": false, \"textposition\": \"auto\", \"type\": \"bar\", \"x\": [\"no_of_trainings\", \"age\", \"previous_year_rating\", \"length_of_service\", \"awards_won?\", \"avg_training_score\", \"Label_Analytics\", \"Label_Finance\", \"Label_HR\", \"Label_Legal\", \"Label_Operations\", \"Label_Procurement\", \"Label_R&D\", \"Label_Sales & Marketing\", \"Label_Technology\", \"Label_region_1\", \"Label_region_10\", \"Label_region_11\", \"Label_region_12\", \"Label_region_13\", \"Label_region_14\", \"Label_region_15\", \"Label_region_16\", \"Label_region_17\", \"Label_region_18\", \"Label_region_19\", \"Label_region_2\", \"Label_region_20\", \"Label_region_21\", \"Label_region_22\", \"Label_region_23\", \"Label_region_24\", \"Label_region_25\", \"Label_region_26\", \"Label_region_27\", \"Label_region_28\", \"Label_region_29\", \"Label_region_3\", \"Label_region_30\", \"Label_region_31\", \"Label_region_32\", \"Label_region_33\", \"Label_region_34\", \"Label_region_4\", \"Label_region_5\", \"Label_region_6\", \"Label_region_7\", \"Label_region_8\", \"Label_region_9\", \"Label_Bachelor's\", \"Label_Below Secondary\", \"Label_Master's & above\", \"Label_f\", \"Label_m\", \"Label_other\", \"Label_referred\", \"Label_sourcing\"], \"xaxis\": \"x\", \"y\": [0.0262627550842123, 0.15253781562226224, 0.06292385679361114, 0.12897576545316272, 0.02942895816702855, 0.3089242332638117, 0.010586493289627375, 0.007166265159810619, 0.004176586759408368, 0.0022690755468097895, 0.01850492468337086, 0.010663496890885124, 0.004871737828670536, 0.019876221993283066, 0.009872478234707499, 0.0027218966252470504, 0.0027890961797843936, 0.0036626218983289885, 0.001330117323822507, 0.0066850089637184185, 0.003150483103842158, 0.006669267236794874, 0.00424269067982089, 0.0037959314693453553, 7.38030895764332e-06, 0.0026338744198251725, 0.012315997896918843, 0.002690593174466749, 0.0018571528058593115, 0.00812222083871174, 0.00482946883324512, 0.0015483577172273667, 0.0034406859229634762, 0.0051954491826066524, 0.005402186791618615, 0.0043316164460067965, 0.002315458574977436, 0.0018272301907115323, 0.002589216006743598, 0.0038713667353471592, 0.0018986414909087906, 0.0010506572052132925, 0.0007410943640340707, 0.005464695648434059, 0.0017879375677966934, 0.0018771513815197744, 0.009326105131319214, 0.0029044700095267246, 0.000711725733942548, 0.0071828837201897795, 0.0010137617693410398, 0.006978494461061954, 0.01308754938047386, 0.013020857449721335, 0.01668714005605926, 0.004314043873021873, 0.016886756659882072], \"yaxis\": \"y\"}],\n",
              "                        {\"barmode\": \"relative\", \"legend\": {\"tracegroupgap\": 0}, \"margin\": {\"t\": 60}, \"template\": {\"data\": {\"bar\": [{\"error_x\": {\"color\": \"#2a3f5f\"}, \"error_y\": {\"color\": \"#2a3f5f\"}, \"marker\": {\"line\": {\"color\": \"#E5ECF6\", \"width\": 0.5}}, \"type\": \"bar\"}], \"barpolar\": [{\"marker\": {\"line\": {\"color\": \"#E5ECF6\", \"width\": 0.5}}, \"type\": \"barpolar\"}], \"carpet\": [{\"aaxis\": {\"endlinecolor\": \"#2a3f5f\", \"gridcolor\": \"white\", \"linecolor\": \"white\", \"minorgridcolor\": \"white\", \"startlinecolor\": \"#2a3f5f\"}, \"baxis\": {\"endlinecolor\": \"#2a3f5f\", \"gridcolor\": \"white\", \"linecolor\": \"white\", \"minorgridcolor\": \"white\", \"startlinecolor\": \"#2a3f5f\"}, \"type\": \"carpet\"}], \"choropleth\": [{\"colorbar\": {\"outlinewidth\": 0, \"ticks\": \"\"}, \"type\": \"choropleth\"}], \"contour\": [{\"colorbar\": {\"outlinewidth\": 0, \"ticks\": \"\"}, \"colorscale\": [[0.0, \"#0d0887\"], [0.1111111111111111, \"#46039f\"], [0.2222222222222222, \"#7201a8\"], [0.3333333333333333, \"#9c179e\"], [0.4444444444444444, \"#bd3786\"], [0.5555555555555556, \"#d8576b\"], [0.6666666666666666, \"#ed7953\"], [0.7777777777777778, \"#fb9f3a\"], [0.8888888888888888, \"#fdca26\"], [1.0, \"#f0f921\"]], \"type\": \"contour\"}], \"contourcarpet\": [{\"colorbar\": {\"outlinewidth\": 0, \"ticks\": \"\"}, \"type\": \"contourcarpet\"}], \"heatmap\": [{\"colorbar\": {\"outlinewidth\": 0, \"ticks\": \"\"}, \"colorscale\": [[0.0, \"#0d0887\"], [0.1111111111111111, \"#46039f\"], [0.2222222222222222, \"#7201a8\"], [0.3333333333333333, \"#9c179e\"], [0.4444444444444444, \"#bd3786\"], [0.5555555555555556, \"#d8576b\"], [0.6666666666666666, \"#ed7953\"], [0.7777777777777778, \"#fb9f3a\"], [0.8888888888888888, \"#fdca26\"], [1.0, \"#f0f921\"]], \"type\": \"heatmap\"}], \"heatmapgl\": [{\"colorbar\": {\"outlinewidth\": 0, \"ticks\": \"\"}, \"colorscale\": [[0.0, \"#0d0887\"], [0.1111111111111111, \"#46039f\"], [0.2222222222222222, \"#7201a8\"], [0.3333333333333333, \"#9c179e\"], [0.4444444444444444, \"#bd3786\"], [0.5555555555555556, \"#d8576b\"], [0.6666666666666666, \"#ed7953\"], [0.7777777777777778, \"#fb9f3a\"], [0.8888888888888888, \"#fdca26\"], [1.0, \"#f0f921\"]], \"type\": \"heatmapgl\"}], \"histogram\": [{\"marker\": {\"colorbar\": {\"outlinewidth\": 0, \"ticks\": \"\"}}, \"type\": \"histogram\"}], \"histogram2d\": [{\"colorbar\": {\"outlinewidth\": 0, \"ticks\": \"\"}, \"colorscale\": [[0.0, \"#0d0887\"], [0.1111111111111111, \"#46039f\"], [0.2222222222222222, \"#7201a8\"], [0.3333333333333333, \"#9c179e\"], [0.4444444444444444, \"#bd3786\"], [0.5555555555555556, \"#d8576b\"], [0.6666666666666666, \"#ed7953\"], [0.7777777777777778, \"#fb9f3a\"], [0.8888888888888888, \"#fdca26\"], [1.0, \"#f0f921\"]], \"type\": \"histogram2d\"}], \"histogram2dcontour\": [{\"colorbar\": {\"outlinewidth\": 0, \"ticks\": \"\"}, \"colorscale\": [[0.0, \"#0d0887\"], [0.1111111111111111, \"#46039f\"], [0.2222222222222222, \"#7201a8\"], [0.3333333333333333, \"#9c179e\"], [0.4444444444444444, \"#bd3786\"], [0.5555555555555556, \"#d8576b\"], [0.6666666666666666, \"#ed7953\"], [0.7777777777777778, \"#fb9f3a\"], [0.8888888888888888, \"#fdca26\"], [1.0, \"#f0f921\"]], \"type\": \"histogram2dcontour\"}], \"mesh3d\": [{\"colorbar\": {\"outlinewidth\": 0, \"ticks\": \"\"}, \"type\": \"mesh3d\"}], \"parcoords\": [{\"line\": {\"colorbar\": {\"outlinewidth\": 0, \"ticks\": \"\"}}, \"type\": \"parcoords\"}], \"pie\": [{\"automargin\": true, \"type\": \"pie\"}], \"scatter\": [{\"marker\": {\"colorbar\": {\"outlinewidth\": 0, \"ticks\": \"\"}}, \"type\": \"scatter\"}], \"scatter3d\": [{\"line\": {\"colorbar\": {\"outlinewidth\": 0, \"ticks\": \"\"}}, \"marker\": {\"colorbar\": {\"outlinewidth\": 0, \"ticks\": \"\"}}, \"type\": \"scatter3d\"}], \"scattercarpet\": [{\"marker\": {\"colorbar\": {\"outlinewidth\": 0, \"ticks\": \"\"}}, \"type\": \"scattercarpet\"}], \"scattergeo\": [{\"marker\": {\"colorbar\": {\"outlinewidth\": 0, \"ticks\": \"\"}}, \"type\": \"scattergeo\"}], \"scattergl\": [{\"marker\": {\"colorbar\": {\"outlinewidth\": 0, \"ticks\": \"\"}}, \"type\": \"scattergl\"}], \"scattermapbox\": [{\"marker\": {\"colorbar\": {\"outlinewidth\": 0, \"ticks\": \"\"}}, \"type\": \"scattermapbox\"}], \"scatterpolar\": [{\"marker\": {\"colorbar\": {\"outlinewidth\": 0, \"ticks\": \"\"}}, \"type\": \"scatterpolar\"}], \"scatterpolargl\": [{\"marker\": {\"colorbar\": {\"outlinewidth\": 0, \"ticks\": \"\"}}, \"type\": \"scatterpolargl\"}], \"scatterternary\": [{\"marker\": {\"colorbar\": {\"outlinewidth\": 0, \"ticks\": \"\"}}, \"type\": \"scatterternary\"}], \"surface\": [{\"colorbar\": {\"outlinewidth\": 0, \"ticks\": \"\"}, \"colorscale\": [[0.0, \"#0d0887\"], [0.1111111111111111, \"#46039f\"], [0.2222222222222222, \"#7201a8\"], [0.3333333333333333, \"#9c179e\"], [0.4444444444444444, \"#bd3786\"], [0.5555555555555556, \"#d8576b\"], [0.6666666666666666, \"#ed7953\"], [0.7777777777777778, \"#fb9f3a\"], [0.8888888888888888, \"#fdca26\"], [1.0, \"#f0f921\"]], \"type\": \"surface\"}], \"table\": [{\"cells\": {\"fill\": {\"color\": \"#EBF0F8\"}, \"line\": {\"color\": \"white\"}}, \"header\": {\"fill\": {\"color\": \"#C8D4E3\"}, \"line\": {\"color\": \"white\"}}, \"type\": \"table\"}]}, \"layout\": {\"annotationdefaults\": {\"arrowcolor\": \"#2a3f5f\", \"arrowhead\": 0, \"arrowwidth\": 1}, \"coloraxis\": {\"colorbar\": {\"outlinewidth\": 0, \"ticks\": \"\"}}, \"colorscale\": {\"diverging\": [[0, \"#8e0152\"], [0.1, \"#c51b7d\"], [0.2, \"#de77ae\"], [0.3, \"#f1b6da\"], [0.4, \"#fde0ef\"], [0.5, \"#f7f7f7\"], [0.6, \"#e6f5d0\"], [0.7, \"#b8e186\"], [0.8, \"#7fbc41\"], [0.9, \"#4d9221\"], [1, \"#276419\"]], \"sequential\": [[0.0, \"#0d0887\"], [0.1111111111111111, \"#46039f\"], [0.2222222222222222, \"#7201a8\"], [0.3333333333333333, \"#9c179e\"], [0.4444444444444444, \"#bd3786\"], [0.5555555555555556, \"#d8576b\"], [0.6666666666666666, \"#ed7953\"], [0.7777777777777778, \"#fb9f3a\"], [0.8888888888888888, \"#fdca26\"], [1.0, \"#f0f921\"]], \"sequentialminus\": [[0.0, \"#0d0887\"], [0.1111111111111111, \"#46039f\"], [0.2222222222222222, \"#7201a8\"], [0.3333333333333333, \"#9c179e\"], [0.4444444444444444, \"#bd3786\"], [0.5555555555555556, \"#d8576b\"], [0.6666666666666666, \"#ed7953\"], [0.7777777777777778, \"#fb9f3a\"], [0.8888888888888888, \"#fdca26\"], [1.0, \"#f0f921\"]]}, \"colorway\": [\"#636efa\", \"#EF553B\", \"#00cc96\", \"#ab63fa\", \"#FFA15A\", \"#19d3f3\", \"#FF6692\", \"#B6E880\", \"#FF97FF\", \"#FECB52\"], \"font\": {\"color\": \"#2a3f5f\"}, \"geo\": {\"bgcolor\": \"white\", \"lakecolor\": \"white\", \"landcolor\": \"#E5ECF6\", \"showlakes\": true, \"showland\": true, \"subunitcolor\": \"white\"}, \"hoverlabel\": {\"align\": \"left\"}, \"hovermode\": \"closest\", \"mapbox\": {\"style\": \"light\"}, \"paper_bgcolor\": \"white\", \"plot_bgcolor\": \"#E5ECF6\", \"polar\": {\"angularaxis\": {\"gridcolor\": \"white\", \"linecolor\": \"white\", \"ticks\": \"\"}, \"bgcolor\": \"#E5ECF6\", \"radialaxis\": {\"gridcolor\": \"white\", \"linecolor\": \"white\", \"ticks\": \"\"}}, \"scene\": {\"xaxis\": {\"backgroundcolor\": \"#E5ECF6\", \"gridcolor\": \"white\", \"gridwidth\": 2, \"linecolor\": \"white\", \"showbackground\": true, \"ticks\": \"\", \"zerolinecolor\": \"white\"}, \"yaxis\": {\"backgroundcolor\": \"#E5ECF6\", \"gridcolor\": \"white\", \"gridwidth\": 2, \"linecolor\": \"white\", \"showbackground\": true, \"ticks\": \"\", \"zerolinecolor\": \"white\"}, \"zaxis\": {\"backgroundcolor\": \"#E5ECF6\", \"gridcolor\": \"white\", \"gridwidth\": 2, \"linecolor\": \"white\", \"showbackground\": true, \"ticks\": \"\", \"zerolinecolor\": \"white\"}}, \"shapedefaults\": {\"line\": {\"color\": \"#2a3f5f\"}}, \"ternary\": {\"aaxis\": {\"gridcolor\": \"white\", \"linecolor\": \"white\", \"ticks\": \"\"}, \"baxis\": {\"gridcolor\": \"white\", \"linecolor\": \"white\", \"ticks\": \"\"}, \"bgcolor\": \"#E5ECF6\", \"caxis\": {\"gridcolor\": \"white\", \"linecolor\": \"white\", \"ticks\": \"\"}}, \"title\": {\"x\": 0.05}, \"xaxis\": {\"automargin\": true, \"gridcolor\": \"white\", \"linecolor\": \"white\", \"ticks\": \"\", \"title\": {\"standoff\": 15}, \"zerolinecolor\": \"white\", \"zerolinewidth\": 2}, \"yaxis\": {\"automargin\": true, \"gridcolor\": \"white\", \"linecolor\": \"white\", \"ticks\": \"\", \"title\": {\"standoff\": 15}, \"zerolinecolor\": \"white\", \"zerolinewidth\": 2}}}, \"xaxis\": {\"anchor\": \"y\", \"domain\": [0.0, 1.0], \"title\": {\"text\": \"Features\"}}, \"yaxis\": {\"anchor\": \"x\", \"domain\": [0.0, 1.0], \"title\": {\"text\": \"Score Features\"}}},\n",
              "                        {\"responsive\": true}\n",
              "                    ).then(function(){\n",
              "                            \n",
              "var gd = document.getElementById('8f061e5e-27d0-4eee-9024-85202a74ee82');\n",
              "var x = new MutationObserver(function (mutations, observer) {{\n",
              "        var display = window.getComputedStyle(gd).display;\n",
              "        if (!display || display === 'none') {{\n",
              "            console.log([gd, 'removed!']);\n",
              "            Plotly.purge(gd);\n",
              "            observer.disconnect();\n",
              "        }}\n",
              "}});\n",
              "\n",
              "// Listen for the removal of the full notebook cells\n",
              "var notebookContainer = gd.closest('#notebook-container');\n",
              "if (notebookContainer) {{\n",
              "    x.observe(notebookContainer, {childList: true});\n",
              "}}\n",
              "\n",
              "// Listen for the clearing of the current output cell\n",
              "var outputEl = gd.closest('.output');\n",
              "if (outputEl) {{\n",
              "    x.observe(outputEl, {childList: true});\n",
              "}}\n",
              "\n",
              "                        })\n",
              "                };\n",
              "                \n",
              "            </script>\n",
              "        </div>\n",
              "</body>\n",
              "</html>"
            ]
          },
          "metadata": {}
        }
      ],
      "source": [
        "# Visualize the feature importance \n",
        "\n",
        "px.bar(x=X.columns, y=features,labels={\"x\":\"Features\",\"y\":\"Score Features\"})"
      ]
    },
    {
      "cell_type": "code",
      "execution_count": 11,
      "metadata": {
        "colab": {
          "base_uri": "https://localhost:8080/"
        },
        "id": "J2HfGgwajbC_",
        "outputId": "5d73e7a5-4393-4103-c38d-690ab2842019"
      },
      "outputs": [
        {
          "output_type": "execute_result",
          "data": {
            "text/plain": [
              "SelectFromModel(estimator=RandomForestClassifier(n_estimators=500,\n",
              "                                                 random_state=1))"
            ]
          },
          "metadata": {},
          "execution_count": 11
        }
      ],
      "source": [
        "# Perofrm feature selection using sklearns SelectFromModel module\n",
        "\n",
        "sel = SelectFromModel(clf)\n",
        "sel.fit(X_train_scaled, y_train)"
      ]
    },
    {
      "cell_type": "code",
      "execution_count": 12,
      "metadata": {
        "colab": {
          "base_uri": "https://localhost:8080/",
          "height": 226
        },
        "id": "J6JGBQugjbC_",
        "outputId": "2760c957-6094-474d-bdf7-c8ae42b06d3d"
      },
      "outputs": [
        {
          "output_type": "execute_result",
          "data": {
            "text/html": [
              "<div>\n",
              "<style scoped>\n",
              "    .dataframe tbody tr th:only-of-type {\n",
              "        vertical-align: middle;\n",
              "    }\n",
              "\n",
              "    .dataframe tbody tr th {\n",
              "        vertical-align: top;\n",
              "    }\n",
              "\n",
              "    .dataframe thead th {\n",
              "        text-align: right;\n",
              "    }\n",
              "</style>\n",
              "<table border=\"1\" class=\"dataframe\">\n",
              "  <thead>\n",
              "    <tr style=\"text-align: right;\">\n",
              "      <th></th>\n",
              "      <th>0</th>\n",
              "      <th>1</th>\n",
              "      <th>2</th>\n",
              "      <th>3</th>\n",
              "      <th>4</th>\n",
              "      <th>5</th>\n",
              "      <th>6</th>\n",
              "      <th>7</th>\n",
              "      <th>8</th>\n",
              "      <th>9</th>\n",
              "      <th>10</th>\n",
              "      <th>11</th>\n",
              "      <th>12</th>\n",
              "      <th>13</th>\n",
              "      <th>14</th>\n",
              "      <th>15</th>\n",
              "      <th>16</th>\n",
              "      <th>17</th>\n",
              "      <th>18</th>\n",
              "      <th>19</th>\n",
              "      <th>20</th>\n",
              "      <th>21</th>\n",
              "      <th>22</th>\n",
              "      <th>23</th>\n",
              "      <th>24</th>\n",
              "      <th>25</th>\n",
              "      <th>26</th>\n",
              "      <th>27</th>\n",
              "      <th>28</th>\n",
              "      <th>29</th>\n",
              "      <th>30</th>\n",
              "      <th>31</th>\n",
              "      <th>32</th>\n",
              "      <th>33</th>\n",
              "      <th>34</th>\n",
              "      <th>35</th>\n",
              "      <th>36</th>\n",
              "      <th>37</th>\n",
              "      <th>38</th>\n",
              "      <th>39</th>\n",
              "      <th>40</th>\n",
              "      <th>41</th>\n",
              "      <th>42</th>\n",
              "      <th>43</th>\n",
              "      <th>44</th>\n",
              "      <th>45</th>\n",
              "      <th>46</th>\n",
              "      <th>47</th>\n",
              "      <th>48</th>\n",
              "      <th>49</th>\n",
              "      <th>50</th>\n",
              "      <th>51</th>\n",
              "      <th>52</th>\n",
              "      <th>53</th>\n",
              "      <th>54</th>\n",
              "      <th>55</th>\n",
              "      <th>56</th>\n",
              "    </tr>\n",
              "  </thead>\n",
              "  <tbody>\n",
              "    <tr>\n",
              "      <th>0</th>\n",
              "      <td>-0.417343</td>\n",
              "      <td>0.977771</td>\n",
              "      <td>-1.063424</td>\n",
              "      <td>2.997848</td>\n",
              "      <td>-0.153396</td>\n",
              "      <td>0.558868</td>\n",
              "      <td>-0.322959</td>\n",
              "      <td>-0.218434</td>\n",
              "      <td>-0.215457</td>\n",
              "      <td>-0.134133</td>\n",
              "      <td>-0.527781</td>\n",
              "      <td>2.512402</td>\n",
              "      <td>-0.137378</td>\n",
              "      <td>-0.642269</td>\n",
              "      <td>-0.391302</td>\n",
              "      <td>-0.10764</td>\n",
              "      <td>-0.112735</td>\n",
              "      <td>6.350645</td>\n",
              "      <td>-0.094496</td>\n",
              "      <td>-0.23187</td>\n",
              "      <td>-0.127746</td>\n",
              "      <td>-0.233767</td>\n",
              "      <td>-0.165678</td>\n",
              "      <td>-0.123469</td>\n",
              "      <td>-0.022823</td>\n",
              "      <td>-0.133284</td>\n",
              "      <td>-0.534692</td>\n",
              "      <td>-0.127302</td>\n",
              "      <td>-0.087294</td>\n",
              "      <td>-0.354485</td>\n",
              "      <td>-0.151514</td>\n",
              "      <td>-0.098403</td>\n",
              "      <td>-0.121162</td>\n",
              "      <td>-0.205156</td>\n",
              "      <td>-0.172872</td>\n",
              "      <td>-0.15405</td>\n",
              "      <td>-0.137171</td>\n",
              "      <td>-0.082042</td>\n",
              "      <td>-0.11236</td>\n",
              "      <td>-0.191192</td>\n",
              "      <td>-0.127191</td>\n",
              "      <td>-0.074045</td>\n",
              "      <td>-0.070009</td>\n",
              "      <td>-0.186444</td>\n",
              "      <td>-0.11726</td>\n",
              "      <td>-0.109449</td>\n",
              "      <td>-0.316556</td>\n",
              "      <td>-0.110343</td>\n",
              "      <td>-0.081191</td>\n",
              "      <td>0.673955</td>\n",
              "      <td>-0.097977</td>\n",
              "      <td>-0.659077</td>\n",
              "      <td>-0.661901</td>\n",
              "      <td>0.661901</td>\n",
              "      <td>0.894973</td>\n",
              "      <td>-0.149132</td>\n",
              "      <td>-0.856195</td>\n",
              "    </tr>\n",
              "    <tr>\n",
              "      <th>1</th>\n",
              "      <td>-0.417343</td>\n",
              "      <td>-0.476712</td>\n",
              "      <td>0.527299</td>\n",
              "      <td>-0.312276</td>\n",
              "      <td>-0.153396</td>\n",
              "      <td>-1.248551</td>\n",
              "      <td>-0.322959</td>\n",
              "      <td>-0.218434</td>\n",
              "      <td>-0.215457</td>\n",
              "      <td>-0.134133</td>\n",
              "      <td>-0.527781</td>\n",
              "      <td>-0.398026</td>\n",
              "      <td>-0.137378</td>\n",
              "      <td>1.556981</td>\n",
              "      <td>-0.391302</td>\n",
              "      <td>-0.10764</td>\n",
              "      <td>-0.112735</td>\n",
              "      <td>-0.157464</td>\n",
              "      <td>-0.094496</td>\n",
              "      <td>-0.23187</td>\n",
              "      <td>-0.127746</td>\n",
              "      <td>-0.233767</td>\n",
              "      <td>-0.165678</td>\n",
              "      <td>-0.123469</td>\n",
              "      <td>-0.022823</td>\n",
              "      <td>-0.133284</td>\n",
              "      <td>1.870236</td>\n",
              "      <td>-0.127302</td>\n",
              "      <td>-0.087294</td>\n",
              "      <td>-0.354485</td>\n",
              "      <td>-0.151514</td>\n",
              "      <td>-0.098403</td>\n",
              "      <td>-0.121162</td>\n",
              "      <td>-0.205156</td>\n",
              "      <td>-0.172872</td>\n",
              "      <td>-0.15405</td>\n",
              "      <td>-0.137171</td>\n",
              "      <td>-0.082042</td>\n",
              "      <td>-0.11236</td>\n",
              "      <td>-0.191192</td>\n",
              "      <td>-0.127191</td>\n",
              "      <td>-0.074045</td>\n",
              "      <td>-0.070009</td>\n",
              "      <td>-0.186444</td>\n",
              "      <td>-0.11726</td>\n",
              "      <td>-0.109449</td>\n",
              "      <td>-0.316556</td>\n",
              "      <td>-0.110343</td>\n",
              "      <td>-0.081191</td>\n",
              "      <td>0.673955</td>\n",
              "      <td>-0.097977</td>\n",
              "      <td>-0.659077</td>\n",
              "      <td>-0.661901</td>\n",
              "      <td>0.661901</td>\n",
              "      <td>0.894973</td>\n",
              "      <td>-0.149132</td>\n",
              "      <td>-0.856195</td>\n",
              "    </tr>\n",
              "    <tr>\n",
              "      <th>2</th>\n",
              "      <td>-0.417343</td>\n",
              "      <td>0.316642</td>\n",
              "      <td>-1.858786</td>\n",
              "      <td>-0.312276</td>\n",
              "      <td>-0.153396</td>\n",
              "      <td>-0.269532</td>\n",
              "      <td>-0.322959</td>\n",
              "      <td>-0.218434</td>\n",
              "      <td>-0.215457</td>\n",
              "      <td>-0.134133</td>\n",
              "      <td>1.894727</td>\n",
              "      <td>-0.398026</td>\n",
              "      <td>-0.137378</td>\n",
              "      <td>-0.642269</td>\n",
              "      <td>-0.391302</td>\n",
              "      <td>-0.10764</td>\n",
              "      <td>-0.112735</td>\n",
              "      <td>-0.157464</td>\n",
              "      <td>-0.094496</td>\n",
              "      <td>-0.23187</td>\n",
              "      <td>-0.127746</td>\n",
              "      <td>-0.233767</td>\n",
              "      <td>-0.165678</td>\n",
              "      <td>-0.123469</td>\n",
              "      <td>-0.022823</td>\n",
              "      <td>7.502799</td>\n",
              "      <td>-0.534692</td>\n",
              "      <td>-0.127302</td>\n",
              "      <td>-0.087294</td>\n",
              "      <td>-0.354485</td>\n",
              "      <td>-0.151514</td>\n",
              "      <td>-0.098403</td>\n",
              "      <td>-0.121162</td>\n",
              "      <td>-0.205156</td>\n",
              "      <td>-0.172872</td>\n",
              "      <td>-0.15405</td>\n",
              "      <td>-0.137171</td>\n",
              "      <td>-0.082042</td>\n",
              "      <td>-0.11236</td>\n",
              "      <td>-0.191192</td>\n",
              "      <td>-0.127191</td>\n",
              "      <td>-0.074045</td>\n",
              "      <td>-0.070009</td>\n",
              "      <td>-0.186444</td>\n",
              "      <td>-0.11726</td>\n",
              "      <td>-0.109449</td>\n",
              "      <td>-0.316556</td>\n",
              "      <td>-0.110343</td>\n",
              "      <td>-0.081191</td>\n",
              "      <td>0.673955</td>\n",
              "      <td>-0.097977</td>\n",
              "      <td>-0.659077</td>\n",
              "      <td>-0.661901</td>\n",
              "      <td>0.661901</td>\n",
              "      <td>0.894973</td>\n",
              "      <td>-0.149132</td>\n",
              "      <td>-0.856195</td>\n",
              "    </tr>\n",
              "    <tr>\n",
              "      <th>3</th>\n",
              "      <td>-0.417343</td>\n",
              "      <td>-1.137840</td>\n",
              "      <td>0.527299</td>\n",
              "      <td>-0.785151</td>\n",
              "      <td>-0.153396</td>\n",
              "      <td>0.408250</td>\n",
              "      <td>-0.322959</td>\n",
              "      <td>-0.218434</td>\n",
              "      <td>-0.215457</td>\n",
              "      <td>-0.134133</td>\n",
              "      <td>-0.527781</td>\n",
              "      <td>2.512402</td>\n",
              "      <td>-0.137378</td>\n",
              "      <td>-0.642269</td>\n",
              "      <td>-0.391302</td>\n",
              "      <td>-0.10764</td>\n",
              "      <td>-0.112735</td>\n",
              "      <td>-0.157464</td>\n",
              "      <td>-0.094496</td>\n",
              "      <td>-0.23187</td>\n",
              "      <td>-0.127746</td>\n",
              "      <td>-0.233767</td>\n",
              "      <td>-0.165678</td>\n",
              "      <td>-0.123469</td>\n",
              "      <td>-0.022823</td>\n",
              "      <td>-0.133284</td>\n",
              "      <td>-0.534692</td>\n",
              "      <td>-0.127302</td>\n",
              "      <td>-0.087294</td>\n",
              "      <td>2.820997</td>\n",
              "      <td>-0.151514</td>\n",
              "      <td>-0.098403</td>\n",
              "      <td>-0.121162</td>\n",
              "      <td>-0.205156</td>\n",
              "      <td>-0.172872</td>\n",
              "      <td>-0.15405</td>\n",
              "      <td>-0.137171</td>\n",
              "      <td>-0.082042</td>\n",
              "      <td>-0.11236</td>\n",
              "      <td>-0.191192</td>\n",
              "      <td>-0.127191</td>\n",
              "      <td>-0.074045</td>\n",
              "      <td>-0.070009</td>\n",
              "      <td>-0.186444</td>\n",
              "      <td>-0.11726</td>\n",
              "      <td>-0.109449</td>\n",
              "      <td>-0.316556</td>\n",
              "      <td>-0.110343</td>\n",
              "      <td>-0.081191</td>\n",
              "      <td>0.673955</td>\n",
              "      <td>-0.097977</td>\n",
              "      <td>-0.659077</td>\n",
              "      <td>-0.661901</td>\n",
              "      <td>0.661901</td>\n",
              "      <td>-1.117352</td>\n",
              "      <td>-0.149132</td>\n",
              "      <td>1.167958</td>\n",
              "    </tr>\n",
              "    <tr>\n",
              "      <th>4</th>\n",
              "      <td>-0.417343</td>\n",
              "      <td>-0.344486</td>\n",
              "      <td>-0.268063</td>\n",
              "      <td>-0.312276</td>\n",
              "      <td>-0.153396</td>\n",
              "      <td>-1.097933</td>\n",
              "      <td>-0.322959</td>\n",
              "      <td>-0.218434</td>\n",
              "      <td>-0.215457</td>\n",
              "      <td>-0.134133</td>\n",
              "      <td>-0.527781</td>\n",
              "      <td>-0.398026</td>\n",
              "      <td>-0.137378</td>\n",
              "      <td>1.556981</td>\n",
              "      <td>-0.391302</td>\n",
              "      <td>-0.10764</td>\n",
              "      <td>-0.112735</td>\n",
              "      <td>-0.157464</td>\n",
              "      <td>-0.094496</td>\n",
              "      <td>-0.23187</td>\n",
              "      <td>-0.127746</td>\n",
              "      <td>-0.233767</td>\n",
              "      <td>-0.165678</td>\n",
              "      <td>-0.123469</td>\n",
              "      <td>-0.022823</td>\n",
              "      <td>-0.133284</td>\n",
              "      <td>1.870236</td>\n",
              "      <td>-0.127302</td>\n",
              "      <td>-0.087294</td>\n",
              "      <td>-0.354485</td>\n",
              "      <td>-0.151514</td>\n",
              "      <td>-0.098403</td>\n",
              "      <td>-0.121162</td>\n",
              "      <td>-0.205156</td>\n",
              "      <td>-0.172872</td>\n",
              "      <td>-0.15405</td>\n",
              "      <td>-0.137171</td>\n",
              "      <td>-0.082042</td>\n",
              "      <td>-0.11236</td>\n",
              "      <td>-0.191192</td>\n",
              "      <td>-0.127191</td>\n",
              "      <td>-0.074045</td>\n",
              "      <td>-0.070009</td>\n",
              "      <td>-0.186444</td>\n",
              "      <td>-0.11726</td>\n",
              "      <td>-0.109449</td>\n",
              "      <td>-0.316556</td>\n",
              "      <td>-0.110343</td>\n",
              "      <td>-0.081191</td>\n",
              "      <td>0.673955</td>\n",
              "      <td>-0.097977</td>\n",
              "      <td>-0.659077</td>\n",
              "      <td>-0.661901</td>\n",
              "      <td>0.661901</td>\n",
              "      <td>-1.117352</td>\n",
              "      <td>6.705481</td>\n",
              "      <td>-0.856195</td>\n",
              "    </tr>\n",
              "  </tbody>\n",
              "</table>\n",
              "</div>"
            ],
            "text/plain": [
              "         0         1         2   ...        54        55        56\n",
              "0 -0.417343  0.977771 -1.063424  ...  0.894973 -0.149132 -0.856195\n",
              "1 -0.417343 -0.476712  0.527299  ...  0.894973 -0.149132 -0.856195\n",
              "2 -0.417343  0.316642 -1.858786  ...  0.894973 -0.149132 -0.856195\n",
              "3 -0.417343 -1.137840  0.527299  ... -1.117352 -0.149132  1.167958\n",
              "4 -0.417343 -0.344486 -0.268063  ... -1.117352  6.705481 -0.856195\n",
              "\n",
              "[5 rows x 57 columns]"
            ]
          },
          "metadata": {},
          "execution_count": 12
        }
      ],
      "source": [
        "# Use the `.transform()` function to transform the scaled `X_train` and `X_test` data \n",
        "# to return a new dataframe with only the features from the previous step\n",
        "\n",
        "X_train_new_scaled = scaler.transform(X_train)\n",
        "X_test_new_scaled = scaler.transform(X_test)\n",
        "\n",
        "selFeatures = pd.DataFrame(X_train_new_scaled)\n",
        "selFeatures.head()"
      ]
    },
    {
      "cell_type": "code",
      "execution_count": 15,
      "metadata": {
        "colab": {
          "base_uri": "https://localhost:8080/"
        },
        "id": "J2cIHQC6jbDA",
        "outputId": "99cee90e-a598-4a9c-a1d2-881ea45c11a7"
      },
      "outputs": [
        {
          "output_type": "stream",
          "name": "stdout",
          "text": [
            "              precision    recall  f1-score   support\n",
            "\n",
            "           0       0.93      1.00      0.96     11094\n",
            "           1       0.85      0.28      0.42      1071\n",
            "\n",
            "    accuracy                           0.93     12165\n",
            "   macro avg       0.89      0.64      0.69     12165\n",
            "weighted avg       0.93      0.93      0.92     12165\n",
            "\n",
            "Training Score: 0.9996985888477874\n",
            "Testing Score: 0.9321002877106453\n"
          ]
        }
      ],
      "source": [
        "# Fit a model and print training and testing scores with 500 trees\n",
        "\n",
        "clf = RandomForestClassifier(random_state=1, n_estimators=500).fit(selFeatures, y_train)\n",
        "y_pred = clf.predict(X_test_new_scaled)\n",
        "\n",
        "print(classification_report(y_test, y_pred))\n",
        "print(f'Training Score: {clf.score(selFeatures, y_train)}')\n",
        "print(f'Testing Score: {clf.score(X_test_new_scaled, y_test)}')"
      ]
    },
    {
      "cell_type": "markdown",
      "metadata": {
        "id": "ICYkuSOHjbDA"
      },
      "source": [
        "## Use K Nearest Neighbors to predict promotions"
      ]
    },
    {
      "cell_type": "code",
      "execution_count": null,
      "metadata": {
        "colab": {
          "base_uri": "https://localhost:8080/"
        },
        "id": "sNnuZD_9jbDA",
        "outputId": "4712ebef-7c68-44be-80c8-9fc5aa6e79cd"
      },
      "outputs": [
        {
          "output_type": "stream",
          "name": "stdout",
          "text": [
            "k: 1, Train/Test Score: 1.000/0.878\n",
            "k: 3, Train/Test Score: 0.934/0.908\n",
            "k: 5, Train/Test Score: 0.925/0.914\n",
            "k: 7, Train/Test Score: 0.921/0.915\n",
            "k: 9, Train/Test Score: 0.919/0.915\n",
            "k: 11, Train/Test Score: 0.918/0.914\n",
            "k: 13, Train/Test Score: 0.918/0.914\n",
            "k: 15, Train/Test Score: 0.917/0.913\n",
            "k: 17, Train/Test Score: 0.917/0.913\n"
          ]
        }
      ],
      "source": [
        "# Fit a K Nearest Neighbors model and loop through different k values of 1 to 20 by 2\n",
        "# to find which has the highest accuracy.\n",
        "# Note: We use only odd numbers because we don't want any ties.\n",
        "\n",
        "train_scores = []\n",
        "test_scores = []\n",
        "for k in range(1, 20, 2):\n",
        "    knn = KNeighborsClassifier(n_neighbors=k)\n",
        "    knn.fit(X_train_scaled, y_train)\n",
        "    train_score = knn.score(X_train_scaled, y_train)\n",
        "    test_score = knn.score(X_test_scaled, y_test)\n",
        "    train_scores.append(train_score)\n",
        "    test_scores.append(test_score)\n",
        "    print(f\"k: {k}, Train/Test Score: {train_score:.3f}/{test_score:.3f}\")\n"
      ]
    },
    {
      "cell_type": "code",
      "execution_count": 18,
      "metadata": {
        "colab": {
          "base_uri": "https://localhost:8080/",
          "height": 279
        },
        "id": "xNxLVTvTjbDB",
        "outputId": "4c022fb8-8385-480c-af0e-7a1f56e3c5f5"
      },
      "outputs": [
        {
          "output_type": "display_data",
          "data": {
            "image/png": "[encoded data removed]",
            "text/plain": [
              "<Figure size 432x288 with 1 Axes>"
            ]
          },
          "metadata": {
            "needs_background": "light"
          }
        }
      ],
      "source": [
        "# Plot the results of the train and test scores from the previous loop   \n",
        "\n",
        "plt.plot(range(1, 20, 2), train_scores, marker='o')\n",
        "plt.plot(range(1, 20, 2), test_scores, marker=\"x\")\n",
        "plt.xlabel(\"k neighbors\")\n",
        "plt.ylabel(\"Testing accuracy score\")\n",
        "plt.show()"
      ]
    },
    {
      "cell_type": "code",
      "execution_count": 19,
      "metadata": {
        "colab": {
          "base_uri": "https://localhost:8080/"
        },
        "id": "eJknQnHgjbDB",
        "outputId": "18052234-7063-425b-bfdb-be4851e2838a"
      },
      "outputs": [
        {
          "metadata": {
            "tags": null
          },
          "name": "stdout",
          "output_type": "stream",
          "text": [
            "k=9 Test Acc: 0.915\n"
          ]
        }
      ],
      "source": [
        "# Select the `k` that provides the best accuracy where the classifier starts to stablize\n",
        "\n",
        "knn = KNeighborsClassifier(n_neighbors=9)\n",
        "knn.fit(X_train_scaled, y_train)\n",
        "print('k=9 Test Acc: %.3f' % knn.score(X_test_scaled, y_test))"
      ]
    }
  ],
  "metadata": {
    "file_extension": ".py",
    "kernelspec": {
      "display_name": "Python 3",
      "language": "python",
      "name": "python3"
    },
    "language_info": {
      "codemirror_mode": {
        "name": "ipython",
        "version": 3
      },
      "file_extension": ".py",
      "mimetype": "text/x-python",
      "name": "python",
      "nbconvert_exporter": "python",
      "pygments_lexer": "ipython3",
      "version": "3.8.8"
    },
    "mimetype": "text/x-python",
    "name": "python",
    "npconvert_exporter": "python",
    "pygments_lexer": "ipython3",
    "version": 3,
    "colab": {
      "name": "Promotion_Prediction.ipynb",
      "provenance": [],
      "collapsed_sections": [
        "ICYkuSOHjbDA"
      ]
    }
  },
  "nbformat": 4,
  "nbformat_minor": 0
}